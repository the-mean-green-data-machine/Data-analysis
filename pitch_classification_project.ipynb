{
 "cells": [
  {
   "cell_type": "markdown",
   "metadata": {},
   "source": [
    "# Pitch classification project"
   ]
  },
{
 "cells": [
  {
   "cell_type": "markdown",
   "metadata": {},
   "source": [
    "## Read and initial data prep"
   ]
  },
  {
   "cell_type": "code",
   "execution_count": 3,
   "metadata": {},
   "outputs": [],
   "source": [
    "import pandas as pd"
   ]
  },
  {
   "cell_type": "code",
   "execution_count": 399,
   "metadata": {},
   "outputs": [],
   "source": [
    "pitches = pd.read_csv('/Users/jasperdean/Downloads/_project_Data.csv')"
   ]
  },
  {
   "cell_type": "code",
   "execution_count": 400,
   "metadata": {},
   "outputs": [
    {
     "data": {
      "text/html": [
       "<div>\n",
       "<style scoped>\n",
       "    .dataframe tbody tr th:only-of-type {\n",
       "        vertical-align: middle;\n",
       "    }\n",
       "\n",
       "    .dataframe tbody tr th {\n",
       "        vertical-align: top;\n",
       "    }\n",
       "\n",
       "    .dataframe thead th {\n",
       "        text-align: right;\n",
       "    }\n",
       "</style>\n",
       "<table border=\"1\" class=\"dataframe\">\n",
       "  <thead>\n",
       "    <tr style=\"text-align: right;\">\n",
       "      <th></th>\n",
       "      <th>pitch_id</th>\n",
       "      <th>pitcher_id</th>\n",
       "      <th>pitcher_side</th>\n",
       "      <th>pitch_type</th>\n",
       "      <th>pitch_initial_speed_a</th>\n",
       "      <th>break_x_a</th>\n",
       "      <th>break_z_a</th>\n",
       "      <th>pitch_initial_speed_b</th>\n",
       "      <th>spinrate_b</th>\n",
       "      <th>break_x_b</th>\n",
       "      <th>break_z_b</th>\n",
       "    </tr>\n",
       "  </thead>\n",
       "  <tbody>\n",
       "    <tr>\n",
       "      <td>0</td>\n",
       "      <td>1</td>\n",
       "      <td>15865</td>\n",
       "      <td>R</td>\n",
       "      <td>Fastball</td>\n",
       "      <td>89.7</td>\n",
       "      <td>-1.23</td>\n",
       "      <td>10.06</td>\n",
       "      <td>90.7214</td>\n",
       "      <td>2302.52</td>\n",
       "      <td>4.29402</td>\n",
       "      <td>-12.2448</td>\n",
       "    </tr>\n",
       "    <tr>\n",
       "      <td>1</td>\n",
       "      <td>2</td>\n",
       "      <td>15865</td>\n",
       "      <td>R</td>\n",
       "      <td>Fastball</td>\n",
       "      <td>89.9</td>\n",
       "      <td>-1.81</td>\n",
       "      <td>12.27</td>\n",
       "      <td>90.8140</td>\n",
       "      <td>2262.55</td>\n",
       "      <td>3.74221</td>\n",
       "      <td>-12.3771</td>\n",
       "    </tr>\n",
       "  </tbody>\n",
       "</table>\n",
       "</div>"
      ],
      "text/plain": [
       "   pitch_id  pitcher_id pitcher_side pitch_type  pitch_initial_speed_a  \\\n",
       "0         1       15865            R   Fastball                   89.7   \n",
       "1         2       15865            R   Fastball                   89.9   \n",
       "\n",
       "   break_x_a  break_z_a  pitch_initial_speed_b  spinrate_b  break_x_b  \\\n",
       "0      -1.23      10.06                90.7214     2302.52    4.29402   \n",
       "1      -1.81      12.27                90.8140     2262.55    3.74221   \n",
       "\n",
       "   break_z_b  \n",
       "0   -12.2448  \n",
       "1   -12.3771  "
      ]
     },
     "execution_count": 400,
     "metadata": {},
     "output_type": "execute_result"
    }
   ],
   "source": [
    "pitches.head(2)"
   ]
  },
  {
   "cell_type": "code",
   "execution_count": 401,
   "metadata": {},
   "outputs": [
    {
     "data": {
      "text/html": [
       "<div>\n",
       "<style scoped>\n",
       "    .dataframe tbody tr th:only-of-type {\n",
       "        vertical-align: middle;\n",
       "    }\n",
       "\n",
       "    .dataframe tbody tr th {\n",
       "        vertical-align: top;\n",
       "    }\n",
       "\n",
       "    .dataframe thead th {\n",
       "        text-align: right;\n",
       "    }\n",
       "</style>\n",
       "<table border=\"1\" class=\"dataframe\">\n",
       "  <thead>\n",
       "    <tr style=\"text-align: right;\">\n",
       "      <th></th>\n",
       "      <th>pitch_id</th>\n",
       "      <th>pitcher_id</th>\n",
       "      <th>pitcher_side</th>\n",
       "      <th>pitch_type</th>\n",
       "      <th>pitch_initial_speed_a</th>\n",
       "      <th>break_x_a</th>\n",
       "      <th>break_z_a</th>\n",
       "      <th>pitch_initial_speed_b</th>\n",
       "      <th>spinrate_b</th>\n",
       "      <th>break_x_b</th>\n",
       "      <th>break_z_b</th>\n",
       "      <th>row_id</th>\n",
       "    </tr>\n",
       "  </thead>\n",
       "  <tbody>\n",
       "    <tr>\n",
       "      <td>0</td>\n",
       "      <td>1</td>\n",
       "      <td>15865</td>\n",
       "      <td>R</td>\n",
       "      <td>Fastball</td>\n",
       "      <td>89.7</td>\n",
       "      <td>-1.23</td>\n",
       "      <td>10.06</td>\n",
       "      <td>90.7214</td>\n",
       "      <td>2302.52</td>\n",
       "      <td>4.29402</td>\n",
       "      <td>-12.2448</td>\n",
       "      <td>0</td>\n",
       "    </tr>\n",
       "    <tr>\n",
       "      <td>1</td>\n",
       "      <td>2</td>\n",
       "      <td>15865</td>\n",
       "      <td>R</td>\n",
       "      <td>Fastball</td>\n",
       "      <td>89.9</td>\n",
       "      <td>-1.81</td>\n",
       "      <td>12.27</td>\n",
       "      <td>90.8140</td>\n",
       "      <td>2262.55</td>\n",
       "      <td>3.74221</td>\n",
       "      <td>-12.3771</td>\n",
       "      <td>1</td>\n",
       "    </tr>\n",
       "  </tbody>\n",
       "</table>\n",
       "</div>"
      ],
      "text/plain": [
       "   pitch_id  pitcher_id pitcher_side pitch_type  pitch_initial_speed_a  \\\n",
       "0         1       15865            R   Fastball                   89.7   \n",
       "1         2       15865            R   Fastball                   89.9   \n",
       "\n",
       "   break_x_a  break_z_a  pitch_initial_speed_b  spinrate_b  break_x_b  \\\n",
       "0      -1.23      10.06                90.7214     2302.52    4.29402   \n",
       "1      -1.81      12.27                90.8140     2262.55    3.74221   \n",
       "\n",
       "   break_z_b  row_id  \n",
       "0   -12.2448       0  \n",
       "1   -12.3771       1  "
      ]
     },
     "execution_count": 401,
     "metadata": {},
     "output_type": "execute_result"
    }
   ],
   "source": [
    "pitches['row_id'] = np.arange(len(pitches))\n",
    "pitches.head(2)"
   ]
  },
  {
   "cell_type": "code",
   "execution_count": 402,
   "metadata": {},
   "outputs": [
    {
     "data": {
      "text/plain": [
       "Fastball     2577\n",
       "Slider        562\n",
       "Changeup      469\n",
       "Curveball     392\n",
       "Name: pitch_type, dtype: int64"
      ]
     },
     "execution_count": 402,
     "metadata": {},
     "output_type": "execute_result"
    }
   ],
   "source": [
    "pitches.pitch_type.value_counts()"
   ]
  },
  {
   "cell_type": "code",
   "execution_count": 403,
   "metadata": {},
   "outputs": [
    {
     "data": {
      "text/plain": [
       "pitch_id                  500\n",
       "pitcher_id                 10\n",
       "pitcher_side                2\n",
       "pitch_type                  4\n",
       "pitch_initial_speed_a     302\n",
       "break_x_a                1733\n",
       "break_z_a                1567\n",
       "pitch_initial_speed_b    2961\n",
       "spinrate_b               2816\n",
       "break_x_b                2965\n",
       "break_z_b                2966\n",
       "row_id                   5000\n",
       "dtype: int64"
      ]
     },
     "execution_count": 403,
     "metadata": {},
     "output_type": "execute_result"
    }
   ],
   "source": [
    "pitches.nunique()"
   ]
  },
  {
   "cell_type": "code",
   "execution_count": 404,
   "metadata": {},
   "outputs": [],
   "source": [
    "# excluding pitch_id as a feature because it overloads memory, and as we'll see, models do well without\n",
    "\n",
    "del pitches['pitch_id']"
   ]
  },
  {
   "cell_type": "code",
   "execution_count": 409,
   "metadata": {},
   "outputs": [],
   "source": [
    "features = [\n",
    "          'pitcher_id',\n",
    "          'pitcher_side',\n",
    "          'pitch_initial_speed_a', \n",
    "          'break_x_a', \n",
    "          'break_z_a',\n",
    "          'pitch_initial_speed_b',\n",
    "          'spinrate_b',\n",
    "          'break_x_b',\n",
    "          'break_z_b',\n",
    "          'row_id']\n",
    "target = ['pitch_type',\n",
    "            'row_id']"
   ]
  },
  {
   "cell_type": "code",
   "execution_count": 418,
   "metadata": {},
   "outputs": [],
   "source": [
    "feature_df = pitches[features]"
   ]
  },
  {
   "cell_type": "code",
   "execution_count": 419,
   "metadata": {},
   "outputs": [],
   "source": [
    "target_df = pitches[target]"
   ]
  },
  {
   "cell_type": "markdown",
   "metadata": {},
   "source": [
    "### Dummying categorical vars"
   ]
  },
  {
   "cell_type": "code",
   "execution_count": 420,
   "metadata": {},
   "outputs": [],
   "source": [
    "def dummifier_func(df):\n",
    "    cat_vars=['pitcher_side', 'pitcher_id']\n",
    "    for var in cat_vars:\n",
    "        cat_list='var'+'_'+var\n",
    "        cat_list = pd.get_dummies(df[var], prefix=var)\n",
    "        data1=df.join(cat_list)\n",
    "        df=data1\n",
    "    data_vars=df.columns.values.tolist()\n",
    "    to_keep=[i for i in data_vars if i not in cat_vars]\n",
    "    df.drop(['pitcher_side', 'pitcher_id'], axis=1, inplace=True)\n",
    "    return df"
   ]
  },
  {
   "cell_type": "code",
   "execution_count": 421,
   "metadata": {
    "scrolled": true
   },
   "outputs": [],
   "source": [
    "feature_df = dummifier_func(feature_df)"
   ]
  },
  {
   "cell_type": "code",
   "execution_count": 422,
   "metadata": {},
   "outputs": [
    {
     "data": {
      "text/html": [
       "<div>\n",
       "<style scoped>\n",
       "    .dataframe tbody tr th:only-of-type {\n",
       "        vertical-align: middle;\n",
       "    }\n",
       "\n",
       "    .dataframe tbody tr th {\n",
       "        vertical-align: top;\n",
       "    }\n",
       "\n",
       "    .dataframe thead th {\n",
       "        text-align: right;\n",
       "    }\n",
       "</style>\n",
       "<table border=\"1\" class=\"dataframe\">\n",
       "  <thead>\n",
       "    <tr style=\"text-align: right;\">\n",
       "      <th></th>\n",
       "      <th>pitch_initial_speed_a</th>\n",
       "      <th>break_x_a</th>\n",
       "      <th>break_z_a</th>\n",
       "      <th>pitch_initial_speed_b</th>\n",
       "      <th>spinrate_b</th>\n",
       "      <th>break_x_b</th>\n",
       "      <th>break_z_b</th>\n",
       "      <th>row_id</th>\n",
       "      <th>pitcher_side_L</th>\n",
       "      <th>pitcher_side_R</th>\n",
       "      <th>pitcher_id_15865</th>\n",
       "      <th>pitcher_id_16401</th>\n",
       "      <th>pitcher_id_34909</th>\n",
       "      <th>pitcher_id_58040</th>\n",
       "      <th>pitcher_id_66538</th>\n",
       "      <th>pitcher_id_96028</th>\n",
       "      <th>pitcher_id_104574</th>\n",
       "      <th>pitcher_id_466401</th>\n",
       "      <th>pitcher_id_480028</th>\n",
       "      <th>pitcher_id_495134</th>\n",
       "    </tr>\n",
       "  </thead>\n",
       "  <tbody>\n",
       "    <tr>\n",
       "      <td>0</td>\n",
       "      <td>89.7</td>\n",
       "      <td>-1.23</td>\n",
       "      <td>10.06</td>\n",
       "      <td>90.7214</td>\n",
       "      <td>2302.52</td>\n",
       "      <td>4.29402</td>\n",
       "      <td>-12.2448</td>\n",
       "      <td>0</td>\n",
       "      <td>0</td>\n",
       "      <td>1</td>\n",
       "      <td>1</td>\n",
       "      <td>0</td>\n",
       "      <td>0</td>\n",
       "      <td>0</td>\n",
       "      <td>0</td>\n",
       "      <td>0</td>\n",
       "      <td>0</td>\n",
       "      <td>0</td>\n",
       "      <td>0</td>\n",
       "      <td>0</td>\n",
       "    </tr>\n",
       "    <tr>\n",
       "      <td>1</td>\n",
       "      <td>89.9</td>\n",
       "      <td>-1.81</td>\n",
       "      <td>12.27</td>\n",
       "      <td>90.8140</td>\n",
       "      <td>2262.55</td>\n",
       "      <td>3.74221</td>\n",
       "      <td>-12.3771</td>\n",
       "      <td>1</td>\n",
       "      <td>0</td>\n",
       "      <td>1</td>\n",
       "      <td>1</td>\n",
       "      <td>0</td>\n",
       "      <td>0</td>\n",
       "      <td>0</td>\n",
       "      <td>0</td>\n",
       "      <td>0</td>\n",
       "      <td>0</td>\n",
       "      <td>0</td>\n",
       "      <td>0</td>\n",
       "      <td>0</td>\n",
       "    </tr>\n",
       "  </tbody>\n",
       "</table>\n",
       "</div>"
      ],
      "text/plain": [
       "   pitch_initial_speed_a  break_x_a  break_z_a  pitch_initial_speed_b  \\\n",
       "0                   89.7      -1.23      10.06                90.7214   \n",
       "1                   89.9      -1.81      12.27                90.8140   \n",
       "\n",
       "   spinrate_b  break_x_b  break_z_b  row_id  pitcher_side_L  pitcher_side_R  \\\n",
       "0     2302.52    4.29402   -12.2448       0               0               1   \n",
       "1     2262.55    3.74221   -12.3771       1               0               1   \n",
       "\n",
       "   pitcher_id_15865  pitcher_id_16401  pitcher_id_34909  pitcher_id_58040  \\\n",
       "0                 1                 0                 0                 0   \n",
       "1                 1                 0                 0                 0   \n",
       "\n",
       "   pitcher_id_66538  pitcher_id_96028  pitcher_id_104574  pitcher_id_466401  \\\n",
       "0                 0                 0                  0                  0   \n",
       "1                 0                 0                  0                  0   \n",
       "\n",
       "   pitcher_id_480028  pitcher_id_495134  \n",
       "0                  0                  0  \n",
       "1                  0                  0  "
      ]
     },
     "execution_count": 422,
     "metadata": {},
     "output_type": "execute_result"
    }
   ],
   "source": [
    "feature_df.head(2)"
   ]
  },
  {
   "cell_type": "code",
   "execution_count": 423,
   "metadata": {},
   "outputs": [
    {
     "data": {
      "text/html": [
       "<div>\n",
       "<style scoped>\n",
       "    .dataframe tbody tr th:only-of-type {\n",
       "        vertical-align: middle;\n",
       "    }\n",
       "\n",
       "    .dataframe tbody tr th {\n",
       "        vertical-align: top;\n",
       "    }\n",
       "\n",
       "    .dataframe thead th {\n",
       "        text-align: right;\n",
       "    }\n",
       "</style>\n",
       "<table border=\"1\" class=\"dataframe\">\n",
       "  <thead>\n",
       "    <tr style=\"text-align: right;\">\n",
       "      <th></th>\n",
       "      <th>pitch_type</th>\n",
       "      <th>row_id</th>\n",
       "    </tr>\n",
       "  </thead>\n",
       "  <tbody>\n",
       "    <tr>\n",
       "      <td>0</td>\n",
       "      <td>Fastball</td>\n",
       "      <td>0</td>\n",
       "    </tr>\n",
       "    <tr>\n",
       "      <td>1</td>\n",
       "      <td>Fastball</td>\n",
       "      <td>1</td>\n",
       "    </tr>\n",
       "  </tbody>\n",
       "</table>\n",
       "</div>"
      ],
      "text/plain": [
       "  pitch_type  row_id\n",
       "0   Fastball       0\n",
       "1   Fastball       1"
      ]
     },
     "execution_count": 423,
     "metadata": {},
     "output_type": "execute_result"
    }
   ],
   "source": [
    "target_df.head(2)"
   ]
  },
  {
   "cell_type": "markdown",
   "metadata": {},
   "source": [
    "## Imputation of missing values"
   ]
  },
  {
   "cell_type": "markdown",
   "metadata": {},
   "source": [
    "#### k-NN"
   ]
  },
  {
   "cell_type": "code",
   "execution_count": 424,
   "metadata": {
    "collapsed": true
   },
   "outputs": [
    {
     "name": "stdout",
     "output_type": "stream",
     "text": [
      "Imputing row 1/5000 with 0 missing, elapsed time: 3.086\n",
      "Imputing row 101/5000 with 4 missing, elapsed time: 3.088\n",
      "Imputing row 201/5000 with 3 missing, elapsed time: 3.101\n",
      "Imputing row 301/5000 with 3 missing, elapsed time: 3.112\n",
      "Imputing row 401/5000 with 4 missing, elapsed time: 3.123\n",
      "Imputing row 501/5000 with 0 missing, elapsed time: 3.135\n",
      "Imputing row 601/5000 with 4 missing, elapsed time: 3.135\n",
      "Imputing row 701/5000 with 3 missing, elapsed time: 3.147\n",
      "Imputing row 801/5000 with 3 missing, elapsed time: 3.158\n",
      "Imputing row 901/5000 with 4 missing, elapsed time: 3.169\n",
      "Imputing row 1001/5000 with 0 missing, elapsed time: 3.181\n",
      "Imputing row 1101/5000 with 4 missing, elapsed time: 3.181\n",
      "Imputing row 1201/5000 with 3 missing, elapsed time: 3.194\n",
      "Imputing row 1301/5000 with 3 missing, elapsed time: 3.205\n",
      "Imputing row 1401/5000 with 4 missing, elapsed time: 3.217\n",
      "Imputing row 1501/5000 with 0 missing, elapsed time: 3.230\n",
      "Imputing row 1601/5000 with 4 missing, elapsed time: 3.231\n",
      "Imputing row 1701/5000 with 3 missing, elapsed time: 3.243\n",
      "Imputing row 1801/5000 with 3 missing, elapsed time: 3.255\n",
      "Imputing row 1901/5000 with 4 missing, elapsed time: 3.268\n",
      "Imputing row 2001/5000 with 0 missing, elapsed time: 3.281\n",
      "Imputing row 2101/5000 with 4 missing, elapsed time: 3.282\n",
      "Imputing row 2201/5000 with 3 missing, elapsed time: 3.297\n",
      "Imputing row 2301/5000 with 3 missing, elapsed time: 3.311\n",
      "Imputing row 2401/5000 with 4 missing, elapsed time: 3.326\n",
      "Imputing row 2501/5000 with 0 missing, elapsed time: 3.342\n",
      "Imputing row 2601/5000 with 4 missing, elapsed time: 3.343\n",
      "Imputing row 2701/5000 with 3 missing, elapsed time: 3.359\n",
      "Imputing row 2801/5000 with 3 missing, elapsed time: 3.373\n",
      "Imputing row 2901/5000 with 4 missing, elapsed time: 3.388\n",
      "Imputing row 3001/5000 with 0 missing, elapsed time: 3.403\n",
      "Imputing row 3101/5000 with 4 missing, elapsed time: 3.404\n",
      "Imputing row 3201/5000 with 3 missing, elapsed time: 3.419\n",
      "Imputing row 3301/5000 with 3 missing, elapsed time: 3.433\n",
      "Imputing row 3401/5000 with 4 missing, elapsed time: 3.447\n",
      "Imputing row 3501/5000 with 0 missing, elapsed time: 3.462\n",
      "Imputing row 3601/5000 with 4 missing, elapsed time: 3.463\n",
      "Imputing row 3701/5000 with 3 missing, elapsed time: 3.477\n",
      "Imputing row 3801/5000 with 3 missing, elapsed time: 3.490\n",
      "Imputing row 3901/5000 with 4 missing, elapsed time: 3.505\n",
      "Imputing row 4001/5000 with 0 missing, elapsed time: 3.518\n",
      "Imputing row 4101/5000 with 4 missing, elapsed time: 3.519\n",
      "Imputing row 4201/5000 with 3 missing, elapsed time: 3.533\n",
      "Imputing row 4301/5000 with 3 missing, elapsed time: 3.547\n",
      "Imputing row 4401/5000 with 4 missing, elapsed time: 3.560\n",
      "Imputing row 4501/5000 with 0 missing, elapsed time: 3.574\n",
      "Imputing row 4601/5000 with 4 missing, elapsed time: 3.575\n",
      "Imputing row 4701/5000 with 3 missing, elapsed time: 3.589\n",
      "Imputing row 4801/5000 with 3 missing, elapsed time: 3.602\n",
      "Imputing row 4901/5000 with 4 missing, elapsed time: 3.614\n"
     ]
    }
   ],
   "source": [
    "from fancyimpute import KNN \n",
    "\n",
    "train_cols = list(feature_df)\n",
    "knn_imputed = pd.DataFrame(KNN(k=5).fit_transform(feature_df))\n",
    "knn_imputed.columns = train_cols"
   ]
  },
  {
   "cell_type": "code",
   "execution_count": 425,
   "metadata": {},
   "outputs": [
    {
     "data": {
      "text/html": [
       "<div>\n",
       "<style scoped>\n",
       "    .dataframe tbody tr th:only-of-type {\n",
       "        vertical-align: middle;\n",
       "    }\n",
       "\n",
       "    .dataframe tbody tr th {\n",
       "        vertical-align: top;\n",
       "    }\n",
       "\n",
       "    .dataframe thead th {\n",
       "        text-align: right;\n",
       "    }\n",
       "</style>\n",
       "<table border=\"1\" class=\"dataframe\">\n",
       "  <thead>\n",
       "    <tr style=\"text-align: right;\">\n",
       "      <th></th>\n",
       "      <th>pitch_initial_speed_a</th>\n",
       "      <th>break_x_a</th>\n",
       "      <th>break_z_a</th>\n",
       "      <th>pitch_initial_speed_b</th>\n",
       "      <th>spinrate_b</th>\n",
       "      <th>break_x_b</th>\n",
       "      <th>break_z_b</th>\n",
       "      <th>row_id</th>\n",
       "      <th>pitcher_side_L</th>\n",
       "      <th>pitcher_side_R</th>\n",
       "      <th>pitcher_id_15865</th>\n",
       "      <th>pitcher_id_16401</th>\n",
       "      <th>pitcher_id_34909</th>\n",
       "      <th>pitcher_id_58040</th>\n",
       "      <th>pitcher_id_66538</th>\n",
       "      <th>pitcher_id_96028</th>\n",
       "      <th>pitcher_id_104574</th>\n",
       "      <th>pitcher_id_466401</th>\n",
       "      <th>pitcher_id_480028</th>\n",
       "      <th>pitcher_id_495134</th>\n",
       "    </tr>\n",
       "  </thead>\n",
       "  <tbody>\n",
       "    <tr>\n",
       "      <td>0</td>\n",
       "      <td>89.7</td>\n",
       "      <td>-1.23</td>\n",
       "      <td>10.06</td>\n",
       "      <td>90.7214</td>\n",
       "      <td>2302.52</td>\n",
       "      <td>4.29402</td>\n",
       "      <td>-12.2448</td>\n",
       "      <td>0.0</td>\n",
       "      <td>0.0</td>\n",
       "      <td>1.0</td>\n",
       "      <td>1.0</td>\n",
       "      <td>0.0</td>\n",
       "      <td>0.0</td>\n",
       "      <td>0.0</td>\n",
       "      <td>0.0</td>\n",
       "      <td>0.0</td>\n",
       "      <td>0.0</td>\n",
       "      <td>0.0</td>\n",
       "      <td>0.0</td>\n",
       "      <td>0.0</td>\n",
       "    </tr>\n",
       "  </tbody>\n",
       "</table>\n",
       "</div>"
      ],
      "text/plain": [
       "   pitch_initial_speed_a  break_x_a  break_z_a  pitch_initial_speed_b  \\\n",
       "0                   89.7      -1.23      10.06                90.7214   \n",
       "\n",
       "   spinrate_b  break_x_b  break_z_b  row_id  pitcher_side_L  pitcher_side_R  \\\n",
       "0     2302.52    4.29402   -12.2448     0.0             0.0             1.0   \n",
       "\n",
       "   pitcher_id_15865  pitcher_id_16401  pitcher_id_34909  pitcher_id_58040  \\\n",
       "0               1.0               0.0               0.0               0.0   \n",
       "\n",
       "   pitcher_id_66538  pitcher_id_96028  pitcher_id_104574  pitcher_id_466401  \\\n",
       "0               0.0               0.0                0.0                0.0   \n",
       "\n",
       "   pitcher_id_480028  pitcher_id_495134  \n",
       "0                0.0                0.0  "
      ]
     },
     "execution_count": 425,
     "metadata": {},
     "output_type": "execute_result"
    }
   ],
   "source": [
    "knn_imputed.head(1)"
   ]
  },
  {
   "cell_type": "markdown",
   "metadata": {},
   "source": [
    "#### MICE"
   ]
  },
  {
   "cell_type": "code",
   "execution_count": 426,
   "metadata": {},
   "outputs": [
    {
     "name": "stderr",
     "output_type": "stream",
     "text": [
      "/Users/jasperdean/opt/anaconda3/lib/python3.7/site-packages/sklearn/impute/_iterative.py:638: ConvergenceWarning: [IterativeImputer] Early stopping criterion not reached.\n",
      "  \" reached.\", ConvergenceWarning)\n"
     ]
    }
   ],
   "source": [
    "from fancyimpute import IterativeImputer\n",
    "MICE_imputer = IterativeImputer()\n",
    "\n",
    "mice_imputed = feature_df.copy(deep=True)\n",
    "mice_imputed.iloc[:, :] = MICE_imputer.fit_transform(mice_imputed)"
   ]
  },
  {
   "cell_type": "code",
   "execution_count": 427,
   "metadata": {},
   "outputs": [
    {
     "data": {
      "text/html": [
       "<div>\n",
       "<style scoped>\n",
       "    .dataframe tbody tr th:only-of-type {\n",
       "        vertical-align: middle;\n",
       "    }\n",
       "\n",
       "    .dataframe tbody tr th {\n",
       "        vertical-align: top;\n",
       "    }\n",
       "\n",
       "    .dataframe thead th {\n",
       "        text-align: right;\n",
       "    }\n",
       "</style>\n",
       "<table border=\"1\" class=\"dataframe\">\n",
       "  <thead>\n",
       "    <tr style=\"text-align: right;\">\n",
       "      <th></th>\n",
       "      <th>pitch_initial_speed_a</th>\n",
       "      <th>break_x_a</th>\n",
       "      <th>break_z_a</th>\n",
       "      <th>pitch_initial_speed_b</th>\n",
       "      <th>spinrate_b</th>\n",
       "      <th>break_x_b</th>\n",
       "      <th>break_z_b</th>\n",
       "      <th>row_id</th>\n",
       "      <th>pitcher_side_L</th>\n",
       "      <th>pitcher_side_R</th>\n",
       "      <th>pitcher_id_15865</th>\n",
       "      <th>pitcher_id_16401</th>\n",
       "      <th>pitcher_id_34909</th>\n",
       "      <th>pitcher_id_58040</th>\n",
       "      <th>pitcher_id_66538</th>\n",
       "      <th>pitcher_id_96028</th>\n",
       "      <th>pitcher_id_104574</th>\n",
       "      <th>pitcher_id_466401</th>\n",
       "      <th>pitcher_id_480028</th>\n",
       "      <th>pitcher_id_495134</th>\n",
       "    </tr>\n",
       "  </thead>\n",
       "  <tbody>\n",
       "    <tr>\n",
       "      <td>0</td>\n",
       "      <td>89.7</td>\n",
       "      <td>-1.23</td>\n",
       "      <td>10.06</td>\n",
       "      <td>90.7214</td>\n",
       "      <td>2302.52</td>\n",
       "      <td>4.29402</td>\n",
       "      <td>-12.2448</td>\n",
       "      <td>0.0</td>\n",
       "      <td>0.0</td>\n",
       "      <td>1.0</td>\n",
       "      <td>1.0</td>\n",
       "      <td>0.0</td>\n",
       "      <td>0.0</td>\n",
       "      <td>0.0</td>\n",
       "      <td>0.0</td>\n",
       "      <td>0.0</td>\n",
       "      <td>0.0</td>\n",
       "      <td>0.0</td>\n",
       "      <td>0.0</td>\n",
       "      <td>0.0</td>\n",
       "    </tr>\n",
       "  </tbody>\n",
       "</table>\n",
       "</div>"
      ],
      "text/plain": [
       "   pitch_initial_speed_a  break_x_a  break_z_a  pitch_initial_speed_b  \\\n",
       "0                   89.7      -1.23      10.06                90.7214   \n",
       "\n",
       "   spinrate_b  break_x_b  break_z_b  row_id  pitcher_side_L  pitcher_side_R  \\\n",
       "0     2302.52    4.29402   -12.2448     0.0             0.0             1.0   \n",
       "\n",
       "   pitcher_id_15865  pitcher_id_16401  pitcher_id_34909  pitcher_id_58040  \\\n",
       "0               1.0               0.0               0.0               0.0   \n",
       "\n",
       "   pitcher_id_66538  pitcher_id_96028  pitcher_id_104574  pitcher_id_466401  \\\n",
       "0               0.0               0.0                0.0                0.0   \n",
       "\n",
       "   pitcher_id_480028  pitcher_id_495134  \n",
       "0                0.0                0.0  "
      ]
     },
     "execution_count": 427,
     "metadata": {},
     "output_type": "execute_result"
    }
   ],
   "source": [
    "mice_imputed.head(1)"
   ]
  },
  {
   "cell_type": "markdown",
   "metadata": {},
   "source": [
    "## Splitting labeled and unlabeled"
   ]
  },
  {
   "cell_type": "code",
   "execution_count": 474,
   "metadata": {},
   "outputs": [],
   "source": [
    "# recombining newly imputed feature data with targets\n",
    "mice_recombined = pd.merge(mice_imputed, target_df, on='row_id').drop('row_id', 1)\n",
    "knn_recombined = pd.merge(knn_imputed, target_df, on='row_id').drop('row_id', 1)\n",
    "# ...and splitting again now that features are properly associated  by row\n",
    "new_features = list(mice_recombined) # doesn't matter which one we use\n",
    "new_target = ['pitch_type']\n",
    "# MICE first\n",
    "mice_unclassified_feats = mice_recombined[pd.isnull(mice_recombined['pitch_type'])][new_features]\n",
    "mice_classified_feats = mice_recombined.loc[mice_recombined['pitch_type'].notnull(), new_features]\n",
    "\n",
    "\n",
    "# then kNN\n",
    "knn_unclassified_feats = knn_recombined[pd.isnull(knn_recombined['pitch_type'])][new_features]\n",
    "knn_classified_feats = knn_recombined.loc[knn_recombined['pitch_type'].notnull(), new_features]\n",
    "\n",
    "unclassified_target = target_df[pd.isnull(target_df['pitch_type'])][new_target]\n",
    "classified_target = target_df.loc[target_df['pitch_type'].notnull(), new_target]"
   ]
  },
  {
   "cell_type": "markdown",
   "metadata": {},
   "source": [
    "# Outliers & distributions"
   ]
  },
  {
   "cell_type": "markdown",
   "metadata": {},
   "source": [
    "#### Comparing extreme ends of each metric by system"
   ]
  },
  {
   "cell_type": "code",
   "execution_count": 114,
   "metadata": {},
   "outputs": [
    {
     "name": "stdout",
     "output_type": "stream",
     "text": [
      "pitch_initial_speed_a max:97.5\n",
      "pitch_initial_speed_a min:68.0\n",
      "break_x_a max:15.26\n",
      "break_x_a min:-14.768780338598793\n",
      "break_z_a max:16.38773352057943\n",
      "break_z_a min:-15.222113605545012\n",
      "pitch_initial_speed_b max:98.3282\n",
      "pitch_initial_speed_b min:68.63071152731695\n",
      "spinrate_b max:2934.17\n",
      "spinrate_b min:561.1419999999999\n",
      "break_x_b max:25.469586596573777\n",
      "break_x_b min:-24.6249\n",
      "break_z_b max:-0.47833000000000003\n",
      "break_z_b min:-75.8413\n"
     ]
    }
   ],
   "source": [
    "for feat in features:\n",
    "    print(str(feat)+\" max:\"+str(pitches[str(feat)].max()))\n",
    "    print(str(feat)+\" min:\"+str(pitches[str(feat)].min()))"
   ]
  },
  {
   "cell_type": "markdown",
   "metadata": {},
   "source": [
    "## Plotting distribution of continuous metrics\n",
    "##### Using imputed  and initial data "
   ]
  },
  {
   "cell_type": "markdown",
   "metadata": {},
   "source": [
    "### Vertical break"
   ]
  },
  {
   "cell_type": "code",
   "execution_count": 502,
   "metadata": {},
   "outputs": [],
   "source": [
    "# creating a temporary df where data isn't missing of initial data\n",
    "vert_temp_b = pitches.dropna(subset=['break_z_b'])"
   ]
  },
  {
   "cell_type": "markdown",
   "metadata": {},
   "source": [
    "#### comparing initial vs MICE vs KNN (sys B)"
   ]
  },
  {
   "cell_type": "code",
   "execution_count": 503,
   "metadata": {},
   "outputs": [
    {
     "name": "stdout",
     "output_type": "stream",
     "text": [
      "initial data: Blue\n",
      "knn imputed data: Orange\n",
      "mice imputed data: Green\n"
     ]
    },
    {
     "data": {
      "text/plain": [
       "<matplotlib.axes._subplots.AxesSubplot at 0x1a59a22f50>"
      ]
     },
     "execution_count": 503,
     "metadata": {},
     "output_type": "execute_result"
    },
    {
     "data": {
      "image/png": "[encoded data removed]",
      "text/plain": [
       "<Figure size 432x288 with 1 Axes>"
      ]
     },
     "metadata": {
      "needs_background": "light"
     },
     "output_type": "display_data"
    }
   ],
   "source": [
    "print(\"initial data: Blue\")\n",
    "print(\"knn imputed data: Orange\")\n",
    "print(\"mice imputed data: Green\")\n",
    "sns.distplot(vert_temp_b.break_z_b)\n",
    "sns.distplot(knn_classified_feats.break_z_b)\n",
    "sns.distplot(mice_classified_feats.break_z_b)"
   ]
  },
  {
   "cell_type": "markdown",
   "metadata": {},
   "source": [
    "As seen here, the MICE distribution somewhat resembles the raw data than does kNN"
   ]
  },
  {
   "cell_type": "markdown",
   "metadata": {},
   "source": [
    "#### comparing initial vs MICE vs KNN (sys A)"
   ]
  },
  {
   "cell_type": "code",
   "execution_count": 508,
   "metadata": {},
   "outputs": [
    {
     "name": "stdout",
     "output_type": "stream",
     "text": [
      "initial data: Blue\n",
      "knn imputed data: Orange\n",
      "mice imputed data: Green\n"
     ]
    },
    {
     "data": {
      "text/plain": [
       "<matplotlib.axes._subplots.AxesSubplot at 0x1a5a3c60d0>"
      ]
     },
     "execution_count": 508,
     "metadata": {},
     "output_type": "execute_result"
    },
    {
     "data": {
      "image/png": "[encoded data removed]",
      "text/plain": [
       "<Figure size 432x288 with 1 Axes>"
      ]
     },
     "metadata": {
      "needs_background": "light"
     },
     "output_type": "display_data"
    }
   ],
   "source": [
    "print(\"initial data: Blue\")\n",
    "print(\"knn imputed data: Orange\")\n",
    "print(\"mice imputed data: Green\")\n",
    "vert_temp_a = pitches.dropna(subset=['break_z_a'])\n",
    "sns.distplot(vert_temp_a.break_z_a)\n",
    "sns.distplot(knn_classified_feats.break_z_a)\n",
    "sns.distplot(mice_classified_feats.break_z_a)"
   ]
  },
  {
   "cell_type": "markdown",
   "metadata": {},
   "source": [
    "MICE is certainly better fitting here"
   ]
  },
  {
   "cell_type": "markdown",
   "metadata": {},
   "source": [
    "#### comparing MICE classified vs unclassified distributions"
   ]
  },
  {
   "cell_type": "code",
   "execution_count": 499,
   "metadata": {},
   "outputs": [
    {
     "name": "stdout",
     "output_type": "stream",
     "text": [
      "system A\n"
     ]
    },
    {
     "data": {
      "text/plain": [
       "(<matplotlib.axes._subplots.AxesSubplot at 0x1a59687790>,\n",
       " <matplotlib.axes._subplots.AxesSubplot at 0x1a59687790>)"
      ]
     },
     "execution_count": 499,
     "metadata": {},
     "output_type": "execute_result"
    },
    {
     "data": {
      "image/png": "[encoded data removed]",
      "text/plain": [
       "<Figure size 432x288 with 1 Axes>"
      ]
     },
     "metadata": {
      "needs_background": "light"
     },
     "output_type": "display_data"
    }
   ],
   "source": [
    "print(\"system A\")\n",
    "sns.distplot(mice_classified_feats.break_z_a),sns.distplot(mice_unclassified_feats.break_z_a)"
   ]
  },
  {
   "cell_type": "code",
   "execution_count": 500,
   "metadata": {},
   "outputs": [
    {
     "name": "stdout",
     "output_type": "stream",
     "text": [
      "System B\n"
     ]
    },
    {
     "data": {
      "text/plain": [
       "(<matplotlib.axes._subplots.AxesSubplot at 0x1a597f01d0>,\n",
       " <matplotlib.axes._subplots.AxesSubplot at 0x1a597f01d0>)"
      ]
     },
     "execution_count": 500,
     "metadata": {},
     "output_type": "execute_result"
    },
    {
     "data": {
      "image/png": "[encoded data removed]",
      "text/plain": [
       "<Figure size 432x288 with 1 Axes>"
      ]
     },
     "metadata": {
      "needs_background": "light"
     },
     "output_type": "display_data"
    }
   ],
   "source": [
    "print(\"System B\")\n",
    "sns.distplot(mice_classified_feats.break_z_b),sns.distplot(mice_unclassified_feats.break_z_b)"
   ]
  },
  {
   "cell_type": "markdown",
   "metadata": {},
   "source": [
    "#### Comparing vertical break distributions of system A vs B"
   ]
  },
  {
   "cell_type": "code",
   "execution_count": 462,
   "metadata": {},
   "outputs": [
    {
     "name": "stdout",
     "output_type": "stream",
     "text": [
      "System A: Orange\n",
      "System B: Blue\n"
     ]
    },
    {
     "data": {
      "text/plain": [
       "<matplotlib.axes._subplots.AxesSubplot at 0x1a55e0e8d0>"
      ]
     },
     "execution_count": 462,
     "metadata": {},
     "output_type": "execute_result"
    },
    {
     "data": {
      "image/png": "[encoded data removed]",
      "text/plain": [
       "<Figure size 432x288 with 1 Axes>"
      ]
     },
     "metadata": {
      "needs_background": "light"
     },
     "output_type": "display_data"
    }
   ],
   "source": [
    "print(\"System A: Orange\")\n",
    "print(\"System B: Blue\")\n",
    "sns.distplot(mice_classified_feats.break_z_b)\n",
    "sns.distplot(mice_classified_feats.break_z_a)"
   ]
  },
  {
   "cell_type": "markdown",
   "metadata": {},
   "source": [
    "This is not a good sign. A & B should not look so different"
   ]
  },
  {
   "cell_type": "markdown",
   "metadata": {},
   "source": [
    "### Horizontal break"
   ]
  },
  {
   "cell_type": "code",
   "execution_count": 511,
   "metadata": {},
   "outputs": [],
   "source": [
    "horiz_temp_a = pitches.dropna(subset=['break_x_a'])\n",
    "horiz_temp_b = pitches.dropna(subset=['break_x_b'])"
   ]
  },
  {
   "cell_type": "markdown",
   "metadata": {},
   "source": [
    "#### comparing initial vs MICE vs KNN (sys B)"
   ]
  },
  {
   "cell_type": "code",
   "execution_count": 512,
   "metadata": {},
   "outputs": [
    {
     "name": "stdout",
     "output_type": "stream",
     "text": [
      "initial data: Blue\n",
      "knn imputed data: Orange\n",
      "mice imputed data: Green\n"
     ]
    },
    {
     "data": {
      "text/plain": [
       "<matplotlib.axes._subplots.AxesSubplot at 0x1a5a836450>"
      ]
     },
     "execution_count": 512,
     "metadata": {},
     "output_type": "execute_result"
    },
    {
     "data": {
      "image/png": "[encoded data removed]",
      "text/plain": [
       "<Figure size 432x288 with 1 Axes>"
      ]
     },
     "metadata": {
      "needs_background": "light"
     },
     "output_type": "display_data"
    }
   ],
   "source": [
    "print(\"initial data: Blue\")\n",
    "print(\"knn imputed data: Orange\")\n",
    "print(\"mice imputed data: Green\")\n",
    "sns.distplot(horiz_temp_b.break_x_b)\n",
    "sns.distplot(knn_classified_feats.break_x_b)\n",
    "sns.distplot(mice_classified_feats.break_x_b)"
   ]
  },
  {
   "cell_type": "markdown",
   "metadata": {},
   "source": [
    "Again, MICE distribution is more similar to source (system B), so we're going to proceed with that method for addressing outliers, and modeling."
   ]
  },
  {
   "cell_type": "markdown",
   "metadata": {},
   "source": [
    "#### comparing initial vs MICE vs KNN (sys A)"
   ]
  },
  {
   "cell_type": "code",
   "execution_count": 513,
   "metadata": {},
   "outputs": [
    {
     "name": "stdout",
     "output_type": "stream",
     "text": [
      "initial data: Blue\n",
      "knn imputed data: Orange\n",
      "mice imputed data: Green\n"
     ]
    },
    {
     "data": {
      "text/plain": [
       "<matplotlib.axes._subplots.AxesSubplot at 0x1a5a9c4d50>"
      ]
     },
     "execution_count": 513,
     "metadata": {},
     "output_type": "execute_result"
    },
    {
     "data": {
      "image/png": "[encoded data removed]",
      "text/plain": [
       "<Figure size 432x288 with 1 Axes>"
      ]
     },
     "metadata": {
      "needs_background": "light"
     },
     "output_type": "display_data"
    }
   ],
   "source": [
    "print(\"initial data: Blue\")\n",
    "print(\"knn imputed data: Orange\")\n",
    "print(\"mice imputed data: Green\")\n",
    "sns.distplot(horiz_temp_a.break_x_a)\n",
    "sns.distplot(knn_classified_feats.break_x_a)\n",
    "sns.distplot(mice_classified_feats.break_x_a)"
   ]
  },
  {
   "cell_type": "markdown",
   "metadata": {},
   "source": [
    "#### Comparing classified vs unclassified"
   ]
  },
  {
   "cell_type": "code",
   "execution_count": 509,
   "metadata": {},
   "outputs": [
    {
     "data": {
      "text/plain": [
       "(<matplotlib.axes._subplots.AxesSubplot at 0x1a5a231a10>,\n",
       " <matplotlib.axes._subplots.AxesSubplot at 0x1a5a231a10>)"
      ]
     },
     "execution_count": 509,
     "metadata": {},
     "output_type": "execute_result"
    },
    {
     "data": {
      "image/png": "[encoded data removed]",
      "text/plain": [
       "<Figure size 432x288 with 1 Axes>"
      ]
     },
     "metadata": {
      "needs_background": "light"
     },
     "output_type": "display_data"
    }
   ],
   "source": [
    "sns.distplot(mice_classified_feats.break_x_a),sns.distplot(mice_unclassified_feats.break_x_a)"
   ]
  },
  {
   "cell_type": "markdown",
   "metadata": {},
   "source": [
    "#### Comparing system A vs B"
   ]
  },
  {
   "cell_type": "code",
   "execution_count": 464,
   "metadata": {},
   "outputs": [
    {
     "name": "stdout",
     "output_type": "stream",
     "text": [
      "System A: Orange\n",
      "System B: Blue\n"
     ]
    },
    {
     "data": {
      "text/plain": [
       "<matplotlib.axes._subplots.AxesSubplot at 0x1a55ed2050>"
      ]
     },
     "execution_count": 464,
     "metadata": {},
     "output_type": "execute_result"
    },
    {
     "data": {
      "image/png": "[encoded data removed]",
      "text/plain": [
       "<Figure size 432x288 with 1 Axes>"
      ]
     },
     "metadata": {
      "needs_background": "light"
     },
     "output_type": "display_data"
    }
   ],
   "source": [
    "print(\"System A: Orange\")\n",
    "print(\"System B: Blue\")\n",
    "sns.distplot(mice_classified_feats.break_x_b)\n",
    "sns.distplot(mice_classified_feats.break_x_a)"
   ]
  },
  {
   "cell_type": "markdown",
   "metadata": {},
   "source": [
    "### Spinrate"
   ]
  },
  {
   "cell_type": "code",
   "execution_count": 188,
   "metadata": {},
   "outputs": [],
   "source": [
    "spin_temp = pitches.dropna(subset=['spinrate_b'])"
   ]
  },
  {
   "cell_type": "markdown",
   "metadata": {},
   "source": [
    "#### Comparing initial to imputed data"
   ]
  },
  {
   "cell_type": "code",
   "execution_count": 465,
   "metadata": {
    "scrolled": true
   },
   "outputs": [
    {
     "name": "stdout",
     "output_type": "stream",
     "text": [
      "initial data: Orange\n",
      "mice imputed data: Blue\n"
     ]
    },
    {
     "data": {
      "text/plain": [
       "<matplotlib.axes._subplots.AxesSubplot at 0x1a561a9410>"
      ]
     },
     "execution_count": 465,
     "metadata": {},
     "output_type": "execute_result"
    },
    {
     "data": {
      "image/png": "[encoded data removed]",
      "text/plain": [
       "<Figure size 432x288 with 1 Axes>"
      ]
     },
     "metadata": {
      "needs_background": "light"
     },
     "output_type": "display_data"
    }
   ],
   "source": [
    "print(\"initial data: Orange\")\n",
    "print(\"mice imputed data: Blue\")\n",
    "sns.distplot(mice_classified_feats.spinrate_b)\n",
    "sns.distplot(spin_temp.spinrate_b)"
   ]
  },
  {
   "cell_type": "code",
   "execution_count": 466,
   "metadata": {},
   "outputs": [
    {
     "data": {
      "text/plain": [
       "<matplotlib.axes._subplots.AxesSubplot at 0x1a42a5ed10>"
      ]
     },
     "execution_count": 466,
     "metadata": {},
     "output_type": "execute_result"
    },
    {
     "data": {
      "image/png": "[encoded data removed]",
      "text/plain": [
       "<Figure size 432x288 with 1 Axes>"
      ]
     },
     "metadata": {
      "needs_background": "light"
     },
     "output_type": "display_data"
    }
   ],
   "source": [
    "sns.boxplot(x=mice_classified_feats['spinrate_b'])\n"
   ]
  },
  {
   "cell_type": "markdown",
   "metadata": {},
   "source": [
    "The high end outliers don't concern me; there are pitchers spinning over 3000RPM. On the low end however, less than 1000RPM without knuckleballs is odd."
   ]
  },
  {
   "cell_type": "markdown",
   "metadata": {},
   "source": [
    "### Initial velocity"
   ]
  },
  {
   "cell_type": "code",
   "execution_count": 194,
   "metadata": {},
   "outputs": [],
   "source": [
    "speed_temp = pitches.dropna(subset=['pitch_initial_speed_b'])"
   ]
  },
  {
   "cell_type": "markdown",
   "metadata": {},
   "source": [
    "#### Comparing initial vs MICE-sys A vs MICE-sys B"
   ]
  },
  {
   "cell_type": "code",
   "execution_count": 467,
   "metadata": {},
   "outputs": [
    {
     "name": "stdout",
     "output_type": "stream",
     "text": [
      "initial data: Blue\n",
      "System A: Orange\n",
      "System B: Green\n"
     ]
    },
    {
     "data": {
      "text/plain": [
       "<matplotlib.axes._subplots.AxesSubplot at 0x1a58138090>"
      ]
     },
     "execution_count": 467,
     "metadata": {},
     "output_type": "execute_result"
    },
    {
     "data": {
      "image/png": "[encoded data removed]",
      "text/plain": [
       "<Figure size 432x288 with 1 Axes>"
      ]
     },
     "metadata": {
      "needs_background": "light"
     },
     "output_type": "display_data"
    }
   ],
   "source": [
    "print(\"initial data: Blue\")\n",
    "print(\"System A: Orange\")\n",
    "print(\"System B: Green\")\n",
    "sns.distplot(speed_temp.pitch_initial_speed_b) \n",
    "sns.distplot(mice_classified_feats.pitch_initial_speed_a) \n",
    "sns.distplot(mice_classified_feats.pitch_initial_speed_b) "
   ]
  },
  {
   "cell_type": "markdown",
   "metadata": {},
   "source": [
    "Velocity looks like we'd expect"
   ]
  },
  {
   "cell_type": "markdown",
   "metadata": {},
   "source": [
    "### Thoughts on distributions"
   ]
  },
  {
   "cell_type": "markdown",
   "metadata": {},
   "source": [
    "At first blush, the most striking issue arises when comparing the System A vs System B histograms for z-axis break. Fortunately, there's a logical explanation; there are two definitions for vertical movement: one which incorporates gravity, and one that does not. The former, vert+gravity, is more reflective of what the hitter actually sees, whereas vert-only is a bit of an esoteric way to isolate the magnus (& other) effects of spin. \n",
    "\n",
    "Regardless, what matters is that system A reflects a range of values commonly seen in vert-only, whereas system B reflects the distribution for vert-gravity. Thus, our measurements for the same axis can be very different, but also okay."
   ]
  },
  {
   "cell_type": "markdown",
   "metadata": {},
   "source": [
    "### There were some strange data points in there..."
   ]
  },
  {
   "cell_type": "markdown",
   "metadata": {},
   "source": [
    "Now, the issue of outliers and 'unbelievable numbers'. Sifting through, there are no Sidd Finch-esque outliers in the data, nothing to make us stop and say \"that's just physically impossible, trade for this man right now\".\n",
    "\n",
    "However, there are some oddities. For example, the pitch with the least z-axis break from system B in our set had only -0.5 inches of movement. To give context, Aorldis Chapman (an extreme example himself) was able to get his fastball to as high as -5 inches vert+gravity break in one game (2012), but even he averages about 8-11 inches below 0.\n",
    "\n",
    "In another place, we see spinrates down into the 500's. Or horizontal breaks of ~30 inches. These numbers are drastic even compared to single season average extremes. For example, over the last 3 years of Statcast data, the biggest horizontal movement pitch averaged 23 inches, and the lowest spin pitch was 1100 RPM. (Excluding knuckles, eephus', and any other weird pitches not included in this dataset).\n",
    "\n",
    "*Caveat: statcast/trackman data at a single pitch-level of granularity does not seem to be publicly available, so we have to take single-season leaders and infer some amount of variance from there. Eg., if the lowest spin pitch over a season was 1100 RPM, maybe it ranged from 750 to 1450 RPM."
   ]
  },
  {
   "cell_type": "markdown",
   "metadata": {},
   "source": [
    "### But actually, that's okay."
   ]
  },
  {
   "cell_type": "markdown",
   "metadata": {},
   "source": [
    "Here's the thing: None of these numbers are totally iolated in the data. There are multiple pitches with RPM's in the 5/600's, etc, and that appears to be true across all metrics. Additionally, we saw above that the distributions for the classified and unclassified data are visually similar.\n",
    "\n",
    "So if the goal of ths project was, perhaps, to audit the accuracy of these systems, we might do something about the weird numbers. But the goal is to predict pitch type classifications, and if a series of systems are inaccurate but consistently so (aka precision), we are no less able to accomplish our goal."
   ]
  },
  {
   "cell_type": "markdown",
   "metadata": {},
   "source": [
    "## Modeling section"
   ]
  },
  {
   "cell_type": "markdown",
   "metadata": {},
   "source": [
    "### kNN imputed data "
   ]
  },
  {
   "cell_type": "code",
   "execution_count": 448,
   "metadata": {},
   "outputs": [],
   "source": [
    "import pandas as pd \n",
    "import numpy as np\n",
    "from sklearn.metrics import accuracy_score, confusion_matrix\n",
    "from sklearn.ensemble import RandomForestClassifier\n",
    "from sklearn import svm, tree\n",
    "import xgboost\n",
    "from sklearn.model_selection import train_test_split\n",
    "# Dependent and independent datasets \n",
    "X_knn = knn_classified_feats\n",
    "y_knn = classified_target\n",
    "# Split the data into training and testing sets with test size as #30%\n",
    "X_train_knn, X_test_knn, y_train_knn, y_test_knn = train_test_split(X_knn,y_knn,test_size=0.3, shuffle=True)"
   ]
  },
  {
   "cell_type": "code",
   "execution_count": 451,
   "metadata": {},
   "outputs": [],
   "source": [
    "knn_classifiers = []\n",
    "knn_xgboost = xgboost.XGBClassifier()\n",
    "knn_classifiers.append(knn_xgboost)\n",
    "knn_svm = svm.SVC()\n",
    "knn_classifiers.append(knn_svm)\n",
    "knn_decision_tree = tree.DecisionTreeClassifier()\n",
    "knn_classifiers.append(knn_decision_tree)\n",
    "knn_random_forest = RandomForestClassifier()\n",
    "knn_classifiers.append(knn_random_forest)"
   ]
  },
  {
   "cell_type": "code",
   "execution_count": 452,
   "metadata": {},
   "outputs": [
    {
     "name": "stderr",
     "output_type": "stream",
     "text": [
      "/Users/jasperdean/opt/anaconda3/lib/python3.7/site-packages/sklearn/preprocessing/_label.py:235: DataConversionWarning: A column-vector y was passed when a 1d array was expected. Please change the shape of y to (n_samples, ), for example using ravel().\n",
      "  y = column_or_1d(y, warn=True)\n",
      "/Users/jasperdean/opt/anaconda3/lib/python3.7/site-packages/sklearn/preprocessing/_label.py:268: DataConversionWarning: A column-vector y was passed when a 1d array was expected. Please change the shape of y to (n_samples, ), for example using ravel().\n",
      "  y = column_or_1d(y, warn=True)\n"
     ]
    },
    {
     "name": "stdout",
     "output_type": "stream",
     "text": [
      "Accuracy of XGBClassifier(base_score=0.5, booster='gbtree', colsample_bylevel=1,\n",
      "              colsample_bynode=1, colsample_bytree=1, gamma=0,\n",
      "              learning_rate=0.1, max_delta_step=0, max_depth=3,\n",
      "              min_child_weight=1, missing=None, n_estimators=100, n_jobs=1,\n",
      "              nthread=None, objective='multi:softprob', random_state=0,\n",
      "              reg_alpha=0, reg_lambda=1, scale_pos_weight=1, seed=None,\n",
      "              silent=None, subsample=1, verbosity=1) is 0.9858333333333333\n",
      "Confusion Matrix of XGBClassifier(base_score=0.5, booster='gbtree', colsample_bylevel=1,\n",
      "              colsample_bynode=1, colsample_bytree=1, gamma=0,\n",
      "              learning_rate=0.1, max_delta_step=0, max_depth=3,\n",
      "              min_child_weight=1, missing=None, n_estimators=100, n_jobs=1,\n",
      "              nthread=None, objective='multi:softprob', random_state=0,\n",
      "              reg_alpha=0, reg_lambda=1, scale_pos_weight=1, seed=None,\n",
      "              silent=None, subsample=1, verbosity=1) is [[135   0   5   4]\n",
      " [  1 132   0   1]\n",
      " [  2   0 766   1]\n",
      " [  1   0   2 150]]\n"
     ]
    },
    {
     "name": "stderr",
     "output_type": "stream",
     "text": [
      "/Users/jasperdean/opt/anaconda3/lib/python3.7/site-packages/sklearn/utils/validation.py:744: DataConversionWarning: A column-vector y was passed when a 1d array was expected. Please change the shape of y to (n_samples, ), for example using ravel().\n",
      "  y = column_or_1d(y, warn=True)\n"
     ]
    },
    {
     "name": "stdout",
     "output_type": "stream",
     "text": [
      "Accuracy of SVC(C=1.0, break_ties=False, cache_size=200, class_weight=None, coef0=0.0,\n",
      "    decision_function_shape='ovr', degree=3, gamma='scale', kernel='rbf',\n",
      "    max_iter=-1, probability=False, random_state=None, shrinking=True,\n",
      "    tol=0.001, verbose=False) is 0.6433333333333333\n",
      "Confusion Matrix of SVC(C=1.0, break_ties=False, cache_size=200, class_weight=None, coef0=0.0,\n",
      "    decision_function_shape='ovr', degree=3, gamma='scale', kernel='rbf',\n",
      "    max_iter=-1, probability=False, random_state=None, shrinking=True,\n",
      "    tol=0.001, verbose=False) is [[  3   0 141   0]\n",
      " [  6   0 128   0]\n",
      " [  2   0 763   4]\n",
      " [ 13   0 134   6]]\n",
      "Accuracy of DecisionTreeClassifier(ccp_alpha=0.0, class_weight=None, criterion='gini',\n",
      "                       max_depth=None, max_features=None, max_leaf_nodes=None,\n",
      "                       min_impurity_decrease=0.0, min_impurity_split=None,\n",
      "                       min_samples_leaf=1, min_samples_split=2,\n",
      "                       min_weight_fraction_leaf=0.0, presort='deprecated',\n",
      "                       random_state=None, splitter='best') is 0.9741666666666666\n",
      "Confusion Matrix of DecisionTreeClassifier(ccp_alpha=0.0, class_weight=None, criterion='gini',\n",
      "                       max_depth=None, max_features=None, max_leaf_nodes=None,\n",
      "                       min_impurity_decrease=0.0, min_impurity_split=None,\n",
      "                       min_samples_leaf=1, min_samples_split=2,\n",
      "                       min_weight_fraction_leaf=0.0, presort='deprecated',\n",
      "                       random_state=None, splitter='best') is [[132   0   5   7]\n",
      " [  1 132   0   1]\n",
      " [  3   0 763   3]\n",
      " [  7   3   1 142]]\n"
     ]
    },
    {
     "name": "stderr",
     "output_type": "stream",
     "text": [
      "/Users/jasperdean/opt/anaconda3/lib/python3.7/site-packages/ipykernel_launcher.py:2: DataConversionWarning: A column-vector y was passed when a 1d array was expected. Please change the shape of y to (n_samples,), for example using ravel().\n",
      "  \n"
     ]
    },
    {
     "name": "stdout",
     "output_type": "stream",
     "text": [
      "Accuracy of RandomForestClassifier(bootstrap=True, ccp_alpha=0.0, class_weight=None,\n",
      "                       criterion='gini', max_depth=None, max_features='auto',\n",
      "                       max_leaf_nodes=None, max_samples=None,\n",
      "                       min_impurity_decrease=0.0, min_impurity_split=None,\n",
      "                       min_samples_leaf=1, min_samples_split=2,\n",
      "                       min_weight_fraction_leaf=0.0, n_estimators=100,\n",
      "                       n_jobs=None, oob_score=False, random_state=None,\n",
      "                       verbose=0, warm_start=False) is 0.9875\n",
      "Confusion Matrix of RandomForestClassifier(bootstrap=True, ccp_alpha=0.0, class_weight=None,\n",
      "                       criterion='gini', max_depth=None, max_features='auto',\n",
      "                       max_leaf_nodes=None, max_samples=None,\n",
      "                       min_impurity_decrease=0.0, min_impurity_split=None,\n",
      "                       min_samples_leaf=1, min_samples_split=2,\n",
      "                       min_weight_fraction_leaf=0.0, n_estimators=100,\n",
      "                       n_jobs=None, oob_score=False, random_state=None,\n",
      "                       verbose=0, warm_start=False) is [[137   0   5   2]\n",
      " [  1 132   0   1]\n",
      " [  2   0 766   1]\n",
      " [  1   0   2 150]]\n"
     ]
    }
   ],
   "source": [
    "for clf in knn_classifiers:\n",
    "    clf.fit(X_train_knn, y_train_knn)\n",
    "    y_pred= clf.predict(X_test_knn)\n",
    "    acc = accuracy_score(y_test_knn, y_pred)\n",
    "    print(\"Accuracy of %s is %s\"%(clf, acc))\n",
    "    cm = confusion_matrix(y_test_knn, y_pred)\n",
    "    print(\"Confusion Matrix of %s is %s\"%(clf, cm))"
   ]
  },
  {
   "cell_type": "markdown",
   "metadata": {},
   "source": [
    "### MICE imputed data"
   ]
  },
  {
   "cell_type": "code",
   "execution_count": 454,
   "metadata": {},
   "outputs": [
    {
     "name": "stderr",
     "output_type": "stream",
     "text": [
      "/Users/jasperdean/opt/anaconda3/lib/python3.7/site-packages/sklearn/preprocessing/_label.py:235: DataConversionWarning: A column-vector y was passed when a 1d array was expected. Please change the shape of y to (n_samples, ), for example using ravel().\n",
      "  y = column_or_1d(y, warn=True)\n",
      "/Users/jasperdean/opt/anaconda3/lib/python3.7/site-packages/sklearn/preprocessing/_label.py:268: DataConversionWarning: A column-vector y was passed when a 1d array was expected. Please change the shape of y to (n_samples, ), for example using ravel().\n",
      "  y = column_or_1d(y, warn=True)\n"
     ]
    },
    {
     "name": "stdout",
     "output_type": "stream",
     "text": [
      "Accuracy of XGBClassifier(base_score=0.5, booster='gbtree', colsample_bylevel=1,\n",
      "              colsample_bynode=1, colsample_bytree=1, gamma=0,\n",
      "              learning_rate=0.1, max_delta_step=0, max_depth=3,\n",
      "              min_child_weight=1, missing=None, n_estimators=100, n_jobs=1,\n",
      "              nthread=None, objective='multi:softprob', random_state=0,\n",
      "              reg_alpha=0, reg_lambda=1, scale_pos_weight=1, seed=None,\n",
      "              silent=None, subsample=1, verbosity=1) is 0.99\n",
      "Confusion Matrix of XGBClassifier(base_score=0.5, booster='gbtree', colsample_bylevel=1,\n",
      "              colsample_bynode=1, colsample_bytree=1, gamma=0,\n",
      "              learning_rate=0.1, max_delta_step=0, max_depth=3,\n",
      "              min_child_weight=1, missing=None, n_estimators=100, n_jobs=1,\n",
      "              nthread=None, objective='multi:softprob', random_state=0,\n",
      "              reg_alpha=0, reg_lambda=1, scale_pos_weight=1, seed=None,\n",
      "              silent=None, subsample=1, verbosity=1) is [[125   0   2   1]\n",
      " [  0 114   0   1]\n",
      " [  1   0 771   1]\n",
      " [  0   2   4 178]]\n"
     ]
    },
    {
     "name": "stderr",
     "output_type": "stream",
     "text": [
      "/Users/jasperdean/opt/anaconda3/lib/python3.7/site-packages/sklearn/utils/validation.py:744: DataConversionWarning: A column-vector y was passed when a 1d array was expected. Please change the shape of y to (n_samples, ), for example using ravel().\n",
      "  y = column_or_1d(y, warn=True)\n"
     ]
    },
    {
     "name": "stdout",
     "output_type": "stream",
     "text": [
      "Accuracy of SVC(C=1.0, break_ties=False, cache_size=200, class_weight=None, coef0=0.0,\n",
      "    decision_function_shape='ovr', degree=3, gamma='scale', kernel='rbf',\n",
      "    max_iter=-1, probability=False, random_state=None, shrinking=True,\n",
      "    tol=0.001, verbose=False) is 0.6491666666666667\n",
      "Confusion Matrix of SVC(C=1.0, break_ties=False, cache_size=200, class_weight=None, coef0=0.0,\n",
      "    decision_function_shape='ovr', degree=3, gamma='scale', kernel='rbf',\n",
      "    max_iter=-1, probability=False, random_state=None, shrinking=True,\n",
      "    tol=0.001, verbose=False) is [[  0   0 128   0]\n",
      " [  0   0 114   1]\n",
      " [  0   0 772   1]\n",
      " [  0   0 177   7]]\n",
      "Accuracy of DecisionTreeClassifier(ccp_alpha=0.0, class_weight=None, criterion='gini',\n",
      "                       max_depth=None, max_features=None, max_leaf_nodes=None,\n",
      "                       min_impurity_decrease=0.0, min_impurity_split=None,\n",
      "                       min_samples_leaf=1, min_samples_split=2,\n",
      "                       min_weight_fraction_leaf=0.0, presort='deprecated',\n",
      "                       random_state=None, splitter='best') is 0.9791666666666666\n",
      "Confusion Matrix of DecisionTreeClassifier(ccp_alpha=0.0, class_weight=None, criterion='gini',\n",
      "                       max_depth=None, max_features=None, max_leaf_nodes=None,\n",
      "                       min_impurity_decrease=0.0, min_impurity_split=None,\n",
      "                       min_samples_leaf=1, min_samples_split=2,\n",
      "                       min_weight_fraction_leaf=0.0, presort='deprecated',\n",
      "                       random_state=None, splitter='best') is [[126   0   1   1]\n",
      " [  0 109   0   6]\n",
      " [  7   0 765   1]\n",
      " [  0   2   7 175]]\n"
     ]
    },
    {
     "name": "stderr",
     "output_type": "stream",
     "text": [
      "/Users/jasperdean/opt/anaconda3/lib/python3.7/site-packages/ipykernel_launcher.py:19: DataConversionWarning: A column-vector y was passed when a 1d array was expected. Please change the shape of y to (n_samples,), for example using ravel().\n"
     ]
    },
    {
     "name": "stdout",
     "output_type": "stream",
     "text": [
      "Accuracy of RandomForestClassifier(bootstrap=True, ccp_alpha=0.0, class_weight=None,\n",
      "                       criterion='gini', max_depth=None, max_features='auto',\n",
      "                       max_leaf_nodes=None, max_samples=None,\n",
      "                       min_impurity_decrease=0.0, min_impurity_split=None,\n",
      "                       min_samples_leaf=1, min_samples_split=2,\n",
      "                       min_weight_fraction_leaf=0.0, n_estimators=100,\n",
      "                       n_jobs=None, oob_score=False, random_state=None,\n",
      "                       verbose=0, warm_start=False) is 0.9908333333333333\n",
      "Confusion Matrix of RandomForestClassifier(bootstrap=True, ccp_alpha=0.0, class_weight=None,\n",
      "                       criterion='gini', max_depth=None, max_features='auto',\n",
      "                       max_leaf_nodes=None, max_samples=None,\n",
      "                       min_impurity_decrease=0.0, min_impurity_split=None,\n",
      "                       min_samples_leaf=1, min_samples_split=2,\n",
      "                       min_weight_fraction_leaf=0.0, n_estimators=100,\n",
      "                       n_jobs=None, oob_score=False, random_state=None,\n",
      "                       verbose=0, warm_start=False) is [[128   0   0   0]\n",
      " [  0 113   0   2]\n",
      " [  1   0 770   2]\n",
      " [  0   2   4 178]]\n"
     ]
    }
   ],
   "source": [
    "X_mice = mice_classified_feats\n",
    "y_mice = classified_target\n",
    "\n",
    "X_train_mice, X_test_mice, y_train_mice, y_test_mice = train_test_split(X_mice,y_mice,test_size=0.3, shuffle=True)\n",
    "\n",
    "mice_classifiers = []\n",
    "mice_xgboost = xgboost.XGBClassifier()\n",
    "mice_classifiers.append(mice_xgboost)\n",
    "mice_svm = svm.SVC()\n",
    "mice_classifiers.append(mice_svm)\n",
    "mice_decision_tree = tree.DecisionTreeClassifier()\n",
    "mice_classifiers.append(mice_decision_tree)\n",
    "mice_random_forest = RandomForestClassifier()\n",
    "mice_classifiers.append(mice_random_forest)\n",
    "\n",
    "for clf in mice_classifiers:\n",
    "    clf.fit(X_train_mice, y_train_mice)\n",
    "    y_pred= clf.predict(X_test_mice)\n",
    "    acc = accuracy_score(y_test_mice, y_pred)\n",
    "    print(\"Accuracy of %s is %s\"%(clf, acc))\n",
    "    cm = confusion_matrix(y_test_mice, y_pred)\n",
    "    print(\"Confusion Matrix of %s is %s\"%(clf, cm))"
   ]
  },
  {
   "cell_type": "markdown",
   "metadata": {},
   "source": [
    "## Model results\n",
    "\n",
    "#### Accuracy"
   ]
  },
  {
   "cell_type": "markdown",
   "metadata": {},
   "source": [
    "                    MICE .  KNN\n",
    "          XGBoost   .990   .986\n",
    "              SVM   .649   .643\n",
    "    Decision Tree   .979   .974\n",
    "    Random Forest   .991   .988"
   ]
  },
  {
   "cell_type": "markdown",
   "metadata": {},
   "source": [
    "The great news is, a number of our models scored above 95% accuracy. Support vector machines was the clear loser, while random forest narrowly edged XGBoost for the top spot. In partiular, the MICE data version of the random forest model had the highest score of 99.08% accuracy, so we'll use it to predict the unclassified pitches"
   ]
  },
  {
   "cell_type": "code",
   "execution_count": 455,
   "metadata": {},
   "outputs": [
    {
     "data": {
      "text/html": [
       "<div>\n",
       "<style scoped>\n",
       "    .dataframe tbody tr th:only-of-type {\n",
       "        vertical-align: middle;\n",
       "    }\n",
       "\n",
       "    .dataframe tbody tr th {\n",
       "        vertical-align: top;\n",
       "    }\n",
       "\n",
       "    .dataframe thead th {\n",
       "        text-align: right;\n",
       "    }\n",
       "</style>\n",
       "<table border=\"1\" class=\"dataframe\">\n",
       "  <thead>\n",
       "    <tr style=\"text-align: right;\">\n",
       "      <th></th>\n",
       "      <th>0</th>\n",
       "    </tr>\n",
       "  </thead>\n",
       "  <tbody>\n",
       "    <tr>\n",
       "      <td>0</td>\n",
       "      <td>Slider</td>\n",
       "    </tr>\n",
       "    <tr>\n",
       "      <td>1</td>\n",
       "      <td>Slider</td>\n",
       "    </tr>\n",
       "  </tbody>\n",
       "</table>\n",
       "</div>"
      ],
      "text/plain": [
       "        0\n",
       "0  Slider\n",
       "1  Slider"
      ]
     },
     "execution_count": 455,
     "metadata": {},
     "output_type": "execute_result"
    }
   ],
   "source": [
    "pitch_classifications = mice_random_forest.predict(mice_unclassified_feats)\n",
    "\n",
    "arr = np.array(pitch_classifications)\n",
    "pitch_classifications_df = pd.DataFrame(data=arr.flatten())\n",
    "pitch_classifications_df.head(2)"
   ]
  },
  {
   "cell_type": "code",
   "execution_count": 456,
   "metadata": {},
   "outputs": [
    {
     "data": {
      "text/plain": [
       "Fastball     601\n",
       "Slider       170\n",
       "Changeup     119\n",
       "Curveball    110\n",
       "Name: 0, dtype: int64"
      ]
     },
     "execution_count": 456,
     "metadata": {},
     "output_type": "execute_result"
    }
   ],
   "source": [
    "pitch_classifications_df[0].value_counts()"
   ]
  },
  {
   "cell_type": "code",
   "execution_count": 514,
   "metadata": {},
   "outputs": [],
   "source": [
    "pitch_classifications_df.to_csv('/Users/jasperdean/Documents/pitch_classifications.csv')"
   ]
  }
 ],
 "metadata": {
  "kernelspec": {
   "display_name": "Python 3",
   "language": "python",
   "name": "python3"
  },
  "language_info": {
   "codemirror_mode": {
    "name": "ipython",
    "version": 3
   },
   "file_extension": ".py",
   "mimetype": "text/x-python",
   "name": "python",
   "nbconvert_exporter": "python",
   "pygments_lexer": "ipython3",
   "version": "3.7.4"
  }
 },
 "nbformat": 4,
 "nbformat_minor": 2
}
